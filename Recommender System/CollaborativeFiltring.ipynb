{
 "metadata": {
  "language_info": {
   "codemirror_mode": {
    "name": "ipython",
    "version": 3
   },
   "file_extension": ".py",
   "mimetype": "text/x-python",
   "name": "python",
   "nbconvert_exporter": "python",
   "pygments_lexer": "ipython3",
   "version": "3.7.6-final"
  },
  "orig_nbformat": 2,
  "kernelspec": {
   "name": "python3",
   "display_name": "Python 3",
   "language": "python"
  }
 },
 "nbformat": 4,
 "nbformat_minor": 2,
 "cells": [
  {
   "source": [
    "# Import Important package"
   ],
   "cell_type": "markdown",
   "metadata": {}
  },
  {
   "cell_type": "code",
   "execution_count": 181,
   "metadata": {},
   "outputs": [],
   "source": [
    "import pandas as pd\n",
    "import numpy as np\n",
    "from sklearn.utils import shuffle"
   ]
  },
  {
   "cell_type": "code",
   "execution_count": 182,
   "metadata": {},
   "outputs": [
    {
     "output_type": "execute_result",
     "data": {
      "text/plain": [
       "   movieId             title                                       genres\n",
       "0        1  Toy Story (1995)  Adventure|Animation|Children|Comedy|Fantasy\n",
       "1        2    Jumanji (1995)                   Adventure|Children|Fantasy"
      ],
      "text/html": "<div>\n<style scoped>\n    .dataframe tbody tr th:only-of-type {\n        vertical-align: middle;\n    }\n\n    .dataframe tbody tr th {\n        vertical-align: top;\n    }\n\n    .dataframe thead th {\n        text-align: right;\n    }\n</style>\n<table border=\"1\" class=\"dataframe\">\n  <thead>\n    <tr style=\"text-align: right;\">\n      <th></th>\n      <th>movieId</th>\n      <th>title</th>\n      <th>genres</th>\n    </tr>\n  </thead>\n  <tbody>\n    <tr>\n      <th>0</th>\n      <td>1</td>\n      <td>Toy Story (1995)</td>\n      <td>Adventure|Animation|Children|Comedy|Fantasy</td>\n    </tr>\n    <tr>\n      <th>1</th>\n      <td>2</td>\n      <td>Jumanji (1995)</td>\n      <td>Adventure|Children|Fantasy</td>\n    </tr>\n  </tbody>\n</table>\n</div>"
     },
     "metadata": {},
     "execution_count": 182
    }
   ],
   "source": [
    "movies=pd.read_csv(\"movies.csv\")\n",
    "movies.head(2)"
   ]
  },
  {
   "cell_type": "code",
   "execution_count": 183,
   "metadata": {},
   "outputs": [
    {
     "output_type": "execute_result",
     "data": {
      "text/plain": [
       "   userId  movieId  rating  timestamp\n",
       "0       1        1     4.0  964982703\n",
       "1       1        3     4.0  964981247"
      ],
      "text/html": "<div>\n<style scoped>\n    .dataframe tbody tr th:only-of-type {\n        vertical-align: middle;\n    }\n\n    .dataframe tbody tr th {\n        vertical-align: top;\n    }\n\n    .dataframe thead th {\n        text-align: right;\n    }\n</style>\n<table border=\"1\" class=\"dataframe\">\n  <thead>\n    <tr style=\"text-align: right;\">\n      <th></th>\n      <th>userId</th>\n      <th>movieId</th>\n      <th>rating</th>\n      <th>timestamp</th>\n    </tr>\n  </thead>\n  <tbody>\n    <tr>\n      <th>0</th>\n      <td>1</td>\n      <td>1</td>\n      <td>4.0</td>\n      <td>964982703</td>\n    </tr>\n    <tr>\n      <th>1</th>\n      <td>1</td>\n      <td>3</td>\n      <td>4.0</td>\n      <td>964981247</td>\n    </tr>\n  </tbody>\n</table>\n</div>"
     },
     "metadata": {},
     "execution_count": 183
    }
   ],
   "source": [
    "rating=pd.read_csv(\"ratings.csv\")\n",
    "rating.head(2)"
   ]
  },
  {
   "cell_type": "code",
   "execution_count": 184,
   "metadata": {},
   "outputs": [
    {
     "output_type": "execute_result",
     "data": {
      "text/plain": [
       "       userId  movieId  rating\n",
       "80093     503     1206     4.0\n",
       "5074       33      452     4.0"
      ],
      "text/html": "<div>\n<style scoped>\n    .dataframe tbody tr th:only-of-type {\n        vertical-align: middle;\n    }\n\n    .dataframe tbody tr th {\n        vertical-align: top;\n    }\n\n    .dataframe thead th {\n        text-align: right;\n    }\n</style>\n<table border=\"1\" class=\"dataframe\">\n  <thead>\n    <tr style=\"text-align: right;\">\n      <th></th>\n      <th>userId</th>\n      <th>movieId</th>\n      <th>rating</th>\n    </tr>\n  </thead>\n  <tbody>\n    <tr>\n      <th>80093</th>\n      <td>503</td>\n      <td>1206</td>\n      <td>4.0</td>\n    </tr>\n    <tr>\n      <th>5074</th>\n      <td>33</td>\n      <td>452</td>\n      <td>4.0</td>\n    </tr>\n  </tbody>\n</table>\n</div>"
     },
     "metadata": {},
     "execution_count": 184
    }
   ],
   "source": [
    "movies=movies.drop(['genres'],axis=1)\n",
    "rating=rating.drop(['timestamp'],axis=1)\n",
    "rating=shuffle(rating)\n",
    "movies=shuffle(movies)\n",
    "\n",
    "rating.head(2)"
   ]
  },
  {
   "source": [
    "# Merge Data"
   ],
   "cell_type": "markdown",
   "metadata": {}
  },
  {
   "cell_type": "code",
   "execution_count": 185,
   "metadata": {},
   "outputs": [
    {
     "output_type": "execute_result",
     "data": {
      "text/plain": [
       "   userId  movieId  rating                       title\n",
       "0     503     1206     4.0  Clockwork Orange, A (1971)\n",
       "1      66     1206     5.0  Clockwork Orange, A (1971)\n",
       "2     555     1206     4.0  Clockwork Orange, A (1971)\n",
       "3     606     1206     4.5  Clockwork Orange, A (1971)\n",
       "4     287     1206     2.5  Clockwork Orange, A (1971)"
      ],
      "text/html": "<div>\n<style scoped>\n    .dataframe tbody tr th:only-of-type {\n        vertical-align: middle;\n    }\n\n    .dataframe tbody tr th {\n        vertical-align: top;\n    }\n\n    .dataframe thead th {\n        text-align: right;\n    }\n</style>\n<table border=\"1\" class=\"dataframe\">\n  <thead>\n    <tr style=\"text-align: right;\">\n      <th></th>\n      <th>userId</th>\n      <th>movieId</th>\n      <th>rating</th>\n      <th>title</th>\n    </tr>\n  </thead>\n  <tbody>\n    <tr>\n      <th>0</th>\n      <td>503</td>\n      <td>1206</td>\n      <td>4.0</td>\n      <td>Clockwork Orange, A (1971)</td>\n    </tr>\n    <tr>\n      <th>1</th>\n      <td>66</td>\n      <td>1206</td>\n      <td>5.0</td>\n      <td>Clockwork Orange, A (1971)</td>\n    </tr>\n    <tr>\n      <th>2</th>\n      <td>555</td>\n      <td>1206</td>\n      <td>4.0</td>\n      <td>Clockwork Orange, A (1971)</td>\n    </tr>\n    <tr>\n      <th>3</th>\n      <td>606</td>\n      <td>1206</td>\n      <td>4.5</td>\n      <td>Clockwork Orange, A (1971)</td>\n    </tr>\n    <tr>\n      <th>4</th>\n      <td>287</td>\n      <td>1206</td>\n      <td>2.5</td>\n      <td>Clockwork Orange, A (1971)</td>\n    </tr>\n  </tbody>\n</table>\n</div>"
     },
     "metadata": {},
     "execution_count": 185
    }
   ],
   "source": [
    "movie_data = pd.merge(rating, movies, on='movieId')\n",
    "movie_data.head()"
   ]
  },
  {
   "source": [
    "# Explor Data"
   ],
   "cell_type": "markdown",
   "metadata": {}
  },
  {
   "cell_type": "code",
   "execution_count": 186,
   "metadata": {},
   "outputs": [
    {
     "output_type": "execute_result",
     "data": {
      "text/plain": [
       "title\n",
       "Karlson Returns (1970)                           5.0\n",
       "Winter in Prostokvashino (1984)                  5.0\n",
       "My Love (2006)                                   5.0\n",
       "Sorority House Massacre II (1990)                5.0\n",
       "Winnie the Pooh and the Day of Concern (1972)    5.0\n",
       "Name: rating, dtype: float64"
      ]
     },
     "metadata": {},
     "execution_count": 186
    }
   ],
   "source": [
    "# Calculate mean rating of all movies\n",
    "movie_data.groupby('title')['rating'].mean().sort_values(ascending=False).head()"
   ]
  },
  {
   "cell_type": "code",
   "execution_count": 187,
   "metadata": {},
   "outputs": [
    {
     "output_type": "execute_result",
     "data": {
      "text/plain": [
       "title\n",
       "Forrest Gump (1994)                 329\n",
       "Shawshank Redemption, The (1994)    317\n",
       "Pulp Fiction (1994)                 307\n",
       "Silence of the Lambs, The (1991)    279\n",
       "Matrix, The (1999)                  278\n",
       "Name: rating, dtype: int64"
      ]
     },
     "metadata": {},
     "execution_count": 187
    }
   ],
   "source": [
    "movie_data.groupby('title')['rating'].count().sort_values(ascending=False).head()"
   ]
  },
  {
   "cell_type": "code",
   "execution_count": 188,
   "metadata": {},
   "outputs": [
    {
     "output_type": "execute_result",
     "data": {
      "text/plain": [
       "                                             rating  rating_counts\n",
       "title                                                             \n",
       "Forrest Gump (1994)                        4.164134            329\n",
       "Shawshank Redemption, The (1994)           4.429022            317\n",
       "Pulp Fiction (1994)                        4.197068            307\n",
       "Silence of the Lambs, The (1991)           4.161290            279\n",
       "Matrix, The (1999)                         4.192446            278\n",
       "Star Wars: Episode IV - A New Hope (1977)  4.231076            251\n",
       "Jurassic Park (1993)                       3.750000            238\n",
       "Braveheart (1995)                          4.031646            237\n",
       "Terminator 2: Judgment Day (1991)          3.970982            224\n",
       "Schindler's List (1993)                    4.225000            220"
      ],
      "text/html": "<div>\n<style scoped>\n    .dataframe tbody tr th:only-of-type {\n        vertical-align: middle;\n    }\n\n    .dataframe tbody tr th {\n        vertical-align: top;\n    }\n\n    .dataframe thead th {\n        text-align: right;\n    }\n</style>\n<table border=\"1\" class=\"dataframe\">\n  <thead>\n    <tr style=\"text-align: right;\">\n      <th></th>\n      <th>rating</th>\n      <th>rating_counts</th>\n    </tr>\n    <tr>\n      <th>title</th>\n      <th></th>\n      <th></th>\n    </tr>\n  </thead>\n  <tbody>\n    <tr>\n      <th>Forrest Gump (1994)</th>\n      <td>4.164134</td>\n      <td>329</td>\n    </tr>\n    <tr>\n      <th>Shawshank Redemption, The (1994)</th>\n      <td>4.429022</td>\n      <td>317</td>\n    </tr>\n    <tr>\n      <th>Pulp Fiction (1994)</th>\n      <td>4.197068</td>\n      <td>307</td>\n    </tr>\n    <tr>\n      <th>Silence of the Lambs, The (1991)</th>\n      <td>4.161290</td>\n      <td>279</td>\n    </tr>\n    <tr>\n      <th>Matrix, The (1999)</th>\n      <td>4.192446</td>\n      <td>278</td>\n    </tr>\n    <tr>\n      <th>Star Wars: Episode IV - A New Hope (1977)</th>\n      <td>4.231076</td>\n      <td>251</td>\n    </tr>\n    <tr>\n      <th>Jurassic Park (1993)</th>\n      <td>3.750000</td>\n      <td>238</td>\n    </tr>\n    <tr>\n      <th>Braveheart (1995)</th>\n      <td>4.031646</td>\n      <td>237</td>\n    </tr>\n    <tr>\n      <th>Terminator 2: Judgment Day (1991)</th>\n      <td>3.970982</td>\n      <td>224</td>\n    </tr>\n    <tr>\n      <th>Schindler's List (1993)</th>\n      <td>4.225000</td>\n      <td>220</td>\n    </tr>\n  </tbody>\n</table>\n</div>"
     },
     "metadata": {},
     "execution_count": 188
    }
   ],
   "source": [
    "ratings_mean_count = pd.DataFrame(movie_data.groupby('title')['rating'].mean())\n",
    "ratings_mean_count['rating_counts'] = pd.DataFrame(movie_data.groupby('title')['rating'].count())\n",
    "ratings_mean_count.dropna(inplace=True)\n",
    "ratings_mean_count.sort_values(\"rating_counts\",ascending=False).head(10)\n"
   ]
  },
  {
   "source": [
    "# Generate data matrix between users and movies and value is rating"
   ],
   "cell_type": "markdown",
   "metadata": {}
  },
  {
   "cell_type": "code",
   "execution_count": 189,
   "metadata": {},
   "outputs": [
    {
     "output_type": "stream",
     "name": "stdout",
     "text": [
      "(200, 9719)\n"
     ]
    },
    {
     "output_type": "execute_result",
     "data": {
      "text/plain": [
       "title   '71 (2014)  'Hellboy': The Seeds of Creation (2004)  \\\n",
       "userId                                                        \n",
       "1              NaN                                      NaN   \n",
       "2              NaN                                      NaN   \n",
       "3              NaN                                      NaN   \n",
       "\n",
       "title   'Round Midnight (1986)  'Salem's Lot (2004)  \\\n",
       "userId                                                \n",
       "1                          NaN                  NaN   \n",
       "2                          NaN                  NaN   \n",
       "3                          NaN                  NaN   \n",
       "\n",
       "title   'Til There Was You (1997)  'Tis the Season for Love (2015)  \\\n",
       "userId                                                               \n",
       "1                             NaN                              NaN   \n",
       "2                             NaN                              NaN   \n",
       "3                             NaN                              NaN   \n",
       "\n",
       "title   'burbs, The (1989)  'night Mother (1986)  (500) Days of Summer (2009)  \\\n",
       "userId                                                                          \n",
       "1                      NaN                   NaN                          NaN   \n",
       "2                      NaN                   NaN                          NaN   \n",
       "3                      NaN                   NaN                          NaN   \n",
       "\n",
       "title   *batteries not included (1987)  ...  Zulu (2013)  [REC] (2007)  \\\n",
       "userId                                  ...                              \n",
       "1                                  NaN  ...          NaN           NaN   \n",
       "2                                  NaN  ...          NaN           NaN   \n",
       "3                                  NaN  ...          NaN           NaN   \n",
       "\n",
       "title   [REC]² (2009)  [REC]³ 3 Génesis (2012)  \\\n",
       "userId                                           \n",
       "1                 NaN                      NaN   \n",
       "2                 NaN                      NaN   \n",
       "3                 NaN                      NaN   \n",
       "\n",
       "title   anohana: The Flower We Saw That Day - The Movie (2013)  \\\n",
       "userId                                                           \n",
       "1                                                     NaN        \n",
       "2                                                     NaN        \n",
       "3                                                     NaN        \n",
       "\n",
       "title   eXistenZ (1999)  xXx (2002)  xXx: State of the Union (2005)  \\\n",
       "userId                                                                \n",
       "1                   NaN         NaN                             NaN   \n",
       "2                   NaN         NaN                             NaN   \n",
       "3                   NaN         NaN                             NaN   \n",
       "\n",
       "title   ¡Three Amigos! (1986)  À nous la liberté (Freedom for Us) (1931)  \n",
       "userId                                                                    \n",
       "1                         4.0                                        NaN  \n",
       "2                         NaN                                        NaN  \n",
       "3                         NaN                                        NaN  \n",
       "\n",
       "[3 rows x 9719 columns]"
      ],
      "text/html": "<div>\n<style scoped>\n    .dataframe tbody tr th:only-of-type {\n        vertical-align: middle;\n    }\n\n    .dataframe tbody tr th {\n        vertical-align: top;\n    }\n\n    .dataframe thead th {\n        text-align: right;\n    }\n</style>\n<table border=\"1\" class=\"dataframe\">\n  <thead>\n    <tr style=\"text-align: right;\">\n      <th>title</th>\n      <th>'71 (2014)</th>\n      <th>'Hellboy': The Seeds of Creation (2004)</th>\n      <th>'Round Midnight (1986)</th>\n      <th>'Salem's Lot (2004)</th>\n      <th>'Til There Was You (1997)</th>\n      <th>'Tis the Season for Love (2015)</th>\n      <th>'burbs, The (1989)</th>\n      <th>'night Mother (1986)</th>\n      <th>(500) Days of Summer (2009)</th>\n      <th>*batteries not included (1987)</th>\n      <th>...</th>\n      <th>Zulu (2013)</th>\n      <th>[REC] (2007)</th>\n      <th>[REC]² (2009)</th>\n      <th>[REC]³ 3 Génesis (2012)</th>\n      <th>anohana: The Flower We Saw That Day - The Movie (2013)</th>\n      <th>eXistenZ (1999)</th>\n      <th>xXx (2002)</th>\n      <th>xXx: State of the Union (2005)</th>\n      <th>¡Three Amigos! (1986)</th>\n      <th>À nous la liberté (Freedom for Us) (1931)</th>\n    </tr>\n    <tr>\n      <th>userId</th>\n      <th></th>\n      <th></th>\n      <th></th>\n      <th></th>\n      <th></th>\n      <th></th>\n      <th></th>\n      <th></th>\n      <th></th>\n      <th></th>\n      <th></th>\n      <th></th>\n      <th></th>\n      <th></th>\n      <th></th>\n      <th></th>\n      <th></th>\n      <th></th>\n      <th></th>\n      <th></th>\n      <th></th>\n    </tr>\n  </thead>\n  <tbody>\n    <tr>\n      <th>1</th>\n      <td>NaN</td>\n      <td>NaN</td>\n      <td>NaN</td>\n      <td>NaN</td>\n      <td>NaN</td>\n      <td>NaN</td>\n      <td>NaN</td>\n      <td>NaN</td>\n      <td>NaN</td>\n      <td>NaN</td>\n      <td>...</td>\n      <td>NaN</td>\n      <td>NaN</td>\n      <td>NaN</td>\n      <td>NaN</td>\n      <td>NaN</td>\n      <td>NaN</td>\n      <td>NaN</td>\n      <td>NaN</td>\n      <td>4.0</td>\n      <td>NaN</td>\n    </tr>\n    <tr>\n      <th>2</th>\n      <td>NaN</td>\n      <td>NaN</td>\n      <td>NaN</td>\n      <td>NaN</td>\n      <td>NaN</td>\n      <td>NaN</td>\n      <td>NaN</td>\n      <td>NaN</td>\n      <td>NaN</td>\n      <td>NaN</td>\n      <td>...</td>\n      <td>NaN</td>\n      <td>NaN</td>\n      <td>NaN</td>\n      <td>NaN</td>\n      <td>NaN</td>\n      <td>NaN</td>\n      <td>NaN</td>\n      <td>NaN</td>\n      <td>NaN</td>\n      <td>NaN</td>\n    </tr>\n    <tr>\n      <th>3</th>\n      <td>NaN</td>\n      <td>NaN</td>\n      <td>NaN</td>\n      <td>NaN</td>\n      <td>NaN</td>\n      <td>NaN</td>\n      <td>NaN</td>\n      <td>NaN</td>\n      <td>NaN</td>\n      <td>NaN</td>\n      <td>...</td>\n      <td>NaN</td>\n      <td>NaN</td>\n      <td>NaN</td>\n      <td>NaN</td>\n      <td>NaN</td>\n      <td>NaN</td>\n      <td>NaN</td>\n      <td>NaN</td>\n      <td>NaN</td>\n      <td>NaN</td>\n    </tr>\n  </tbody>\n</table>\n<p>3 rows × 9719 columns</p>\n</div>"
     },
     "metadata": {},
     "execution_count": 189
    }
   ],
   "source": [
    "user_movie_rating = movie_data.pivot_table(index='userId', columns='title', values='rating')[:200]\n",
    "print(user_movie_rating.shape)\n",
    "user_movie_rating.head(3)"
   ]
  },
  {
   "source": [
    "# Replace NAN Value with zero"
   ],
   "cell_type": "markdown",
   "metadata": {}
  },
  {
   "cell_type": "code",
   "execution_count": 190,
   "metadata": {},
   "outputs": [
    {
     "output_type": "execute_result",
     "data": {
      "text/plain": [
       "title   '71 (2014)  'Hellboy': The Seeds of Creation (2004)  \\\n",
       "userId                                                        \n",
       "1              0.0                                      0.0   \n",
       "2              0.0                                      0.0   \n",
       "\n",
       "title   'Round Midnight (1986)  'Salem's Lot (2004)  \\\n",
       "userId                                                \n",
       "1                          0.0                  0.0   \n",
       "2                          0.0                  0.0   \n",
       "\n",
       "title   'Til There Was You (1997)  'Tis the Season for Love (2015)  \\\n",
       "userId                                                               \n",
       "1                             0.0                              0.0   \n",
       "2                             0.0                              0.0   \n",
       "\n",
       "title   'burbs, The (1989)  'night Mother (1986)  (500) Days of Summer (2009)  \\\n",
       "userId                                                                          \n",
       "1                      0.0                   0.0                          0.0   \n",
       "2                      0.0                   0.0                          0.0   \n",
       "\n",
       "title   *batteries not included (1987)  ...  Zulu (2013)  [REC] (2007)  \\\n",
       "userId                                  ...                              \n",
       "1                                  0.0  ...          0.0           0.0   \n",
       "2                                  0.0  ...          0.0           0.0   \n",
       "\n",
       "title   [REC]² (2009)  [REC]³ 3 Génesis (2012)  \\\n",
       "userId                                           \n",
       "1                 0.0                      0.0   \n",
       "2                 0.0                      0.0   \n",
       "\n",
       "title   anohana: The Flower We Saw That Day - The Movie (2013)  \\\n",
       "userId                                                           \n",
       "1                                                     0.0        \n",
       "2                                                     0.0        \n",
       "\n",
       "title   eXistenZ (1999)  xXx (2002)  xXx: State of the Union (2005)  \\\n",
       "userId                                                                \n",
       "1                   0.0         0.0                             0.0   \n",
       "2                   0.0         0.0                             0.0   \n",
       "\n",
       "title   ¡Three Amigos! (1986)  À nous la liberté (Freedom for Us) (1931)  \n",
       "userId                                                                    \n",
       "1                         4.0                                        0.0  \n",
       "2                         0.0                                        0.0  \n",
       "\n",
       "[2 rows x 9719 columns]"
      ],
      "text/html": "<div>\n<style scoped>\n    .dataframe tbody tr th:only-of-type {\n        vertical-align: middle;\n    }\n\n    .dataframe tbody tr th {\n        vertical-align: top;\n    }\n\n    .dataframe thead th {\n        text-align: right;\n    }\n</style>\n<table border=\"1\" class=\"dataframe\">\n  <thead>\n    <tr style=\"text-align: right;\">\n      <th>title</th>\n      <th>'71 (2014)</th>\n      <th>'Hellboy': The Seeds of Creation (2004)</th>\n      <th>'Round Midnight (1986)</th>\n      <th>'Salem's Lot (2004)</th>\n      <th>'Til There Was You (1997)</th>\n      <th>'Tis the Season for Love (2015)</th>\n      <th>'burbs, The (1989)</th>\n      <th>'night Mother (1986)</th>\n      <th>(500) Days of Summer (2009)</th>\n      <th>*batteries not included (1987)</th>\n      <th>...</th>\n      <th>Zulu (2013)</th>\n      <th>[REC] (2007)</th>\n      <th>[REC]² (2009)</th>\n      <th>[REC]³ 3 Génesis (2012)</th>\n      <th>anohana: The Flower We Saw That Day - The Movie (2013)</th>\n      <th>eXistenZ (1999)</th>\n      <th>xXx (2002)</th>\n      <th>xXx: State of the Union (2005)</th>\n      <th>¡Three Amigos! (1986)</th>\n      <th>À nous la liberté (Freedom for Us) (1931)</th>\n    </tr>\n    <tr>\n      <th>userId</th>\n      <th></th>\n      <th></th>\n      <th></th>\n      <th></th>\n      <th></th>\n      <th></th>\n      <th></th>\n      <th></th>\n      <th></th>\n      <th></th>\n      <th></th>\n      <th></th>\n      <th></th>\n      <th></th>\n      <th></th>\n      <th></th>\n      <th></th>\n      <th></th>\n      <th></th>\n      <th></th>\n      <th></th>\n    </tr>\n  </thead>\n  <tbody>\n    <tr>\n      <th>1</th>\n      <td>0.0</td>\n      <td>0.0</td>\n      <td>0.0</td>\n      <td>0.0</td>\n      <td>0.0</td>\n      <td>0.0</td>\n      <td>0.0</td>\n      <td>0.0</td>\n      <td>0.0</td>\n      <td>0.0</td>\n      <td>...</td>\n      <td>0.0</td>\n      <td>0.0</td>\n      <td>0.0</td>\n      <td>0.0</td>\n      <td>0.0</td>\n      <td>0.0</td>\n      <td>0.0</td>\n      <td>0.0</td>\n      <td>4.0</td>\n      <td>0.0</td>\n    </tr>\n    <tr>\n      <th>2</th>\n      <td>0.0</td>\n      <td>0.0</td>\n      <td>0.0</td>\n      <td>0.0</td>\n      <td>0.0</td>\n      <td>0.0</td>\n      <td>0.0</td>\n      <td>0.0</td>\n      <td>0.0</td>\n      <td>0.0</td>\n      <td>...</td>\n      <td>0.0</td>\n      <td>0.0</td>\n      <td>0.0</td>\n      <td>0.0</td>\n      <td>0.0</td>\n      <td>0.0</td>\n      <td>0.0</td>\n      <td>0.0</td>\n      <td>0.0</td>\n      <td>0.0</td>\n    </tr>\n  </tbody>\n</table>\n<p>2 rows × 9719 columns</p>\n</div>"
     },
     "metadata": {},
     "execution_count": 190
    }
   ],
   "source": [
    "user_movie_rating.replace(np.nan, 0,inplace=True)\n",
    "user_movie_rating.head(2)"
   ]
  },
  {
   "source": [
    "# Cosin similarit Function"
   ],
   "cell_type": "markdown",
   "metadata": {}
  },
  {
   "cell_type": "code",
   "execution_count": 191,
   "metadata": {},
   "outputs": [],
   "source": [
    "def Cosin_Similarity(data_Matrix,film_name):\n",
    "    similarty_df = pd.DataFrame(columns=['userId', 'Cosin_similarty'])\n",
    "    film=data_Matrix[film_name]\n",
    "    for i in data_Matrix:\n",
    "        dot_product = np.dot(film, data_Matrix[i])\n",
    "        norm_a = np.linalg.norm(film)\n",
    "        norm_b = np.linalg.norm(data_Matrix[i])\n",
    "        similarity=dot_product / (norm_a * norm_b)\n",
    "        similarty_df=similarty_df.append({'userId': i, 'Cosin_similarty': similarity},ignore_index=True)\n",
    "    return similarty_df  "
   ]
  },
  {
   "cell_type": "code",
   "execution_count": 192,
   "metadata": {},
   "outputs": [],
   "source": [
    "# def Similarities(data_Matrix,film_name,Mode=\"Item based\"):\n",
    "#     film=data_Matrix[film_name]\n",
    "#     if Mode== \"Item based\":\n",
    "#         similarty_df = pd.DataFrame(columns=['title', 'Cosin_similarty'])\n",
    "#         for i in data_Matrix:\n",
    "#             similarty_Factor=Cosin_Similarity(film,data_Matrix[i])\n",
    "#             similarty_df=similarty_df.append({'title': i, 'Cosin_similarty': similarty_Factor},ignore_index=True)\n",
    "\n",
    "#     elif Mode==\"User based\":\n",
    "#         similarty_df = pd.DataFrame(columns=['ID', 'Cosin_similarty'])\n",
    "#         for i in data_Matrix:\n",
    "#             similarty_Factor=Cosin_Similarity(film,data_Matrix[i])\n",
    "#             similarty_df=similarty_df.append({'ID': i, 'Cosin_similarty': similarty_Factor},ignore_index=True)\n",
    "\n",
    "#     return similarty_df  "
   ]
  },
  {
   "source": [
    "# Use Data matrix to match Toy Story (1995)"
   ],
   "cell_type": "markdown",
   "metadata": {}
  },
  {
   "cell_type": "code",
   "execution_count": 193,
   "metadata": {},
   "outputs": [
    {
     "output_type": "execute_result",
     "data": {
      "text/plain": [
       "userId\n",
       "1      4.0\n",
       "2      0.0\n",
       "3      0.0\n",
       "4      0.0\n",
       "5      4.0\n",
       "      ... \n",
       "196    0.0\n",
       "197    0.0\n",
       "198    0.0\n",
       "199    0.0\n",
       "200    3.5\n",
       "Name: Toy Story (1995), Length: 200, dtype: float64"
      ]
     },
     "metadata": {},
     "execution_count": 193
    }
   ],
   "source": [
    "Toy_story_ratings = user_movie_rating['Toy Story (1995)']\r\n",
    "Toy_story_ratings"
   ]
  },
  {
   "cell_type": "code",
   "execution_count": 194,
   "metadata": {
    "tags": []
   },
   "outputs": [
    {
     "output_type": "execute_result",
     "data": {
      "text/plain": [
       "                                         userId  Cosin_similarty\n",
       "8871                           Toy Story (1995)         1.000000\n",
       "4337       Independence Day (a.k.a. ID4) (1996)         0.558823\n",
       "6865                        Pulp Fiction (1994)         0.557919\n",
       "5711                 Mission: Impossible (1996)         0.554750\n",
       "298                              Aladdin (1992)         0.546933\n",
       "7653                               Shrek (2001)         0.537303\n",
       "4662                       Jurassic Park (1993)         0.533452\n",
       "8872                         Toy Story 2 (1999)         0.533356\n",
       "5488                           Mask, The (1994)         0.533289\n",
       "8001  Star Wars: Episode IV - A New Hope (1977)         0.533147"
      ],
      "text/html": "<div>\n<style scoped>\n    .dataframe tbody tr th:only-of-type {\n        vertical-align: middle;\n    }\n\n    .dataframe tbody tr th {\n        vertical-align: top;\n    }\n\n    .dataframe thead th {\n        text-align: right;\n    }\n</style>\n<table border=\"1\" class=\"dataframe\">\n  <thead>\n    <tr style=\"text-align: right;\">\n      <th></th>\n      <th>userId</th>\n      <th>Cosin_similarty</th>\n    </tr>\n  </thead>\n  <tbody>\n    <tr>\n      <th>8871</th>\n      <td>Toy Story (1995)</td>\n      <td>1.000000</td>\n    </tr>\n    <tr>\n      <th>4337</th>\n      <td>Independence Day (a.k.a. ID4) (1996)</td>\n      <td>0.558823</td>\n    </tr>\n    <tr>\n      <th>6865</th>\n      <td>Pulp Fiction (1994)</td>\n      <td>0.557919</td>\n    </tr>\n    <tr>\n      <th>5711</th>\n      <td>Mission: Impossible (1996)</td>\n      <td>0.554750</td>\n    </tr>\n    <tr>\n      <th>298</th>\n      <td>Aladdin (1992)</td>\n      <td>0.546933</td>\n    </tr>\n    <tr>\n      <th>7653</th>\n      <td>Shrek (2001)</td>\n      <td>0.537303</td>\n    </tr>\n    <tr>\n      <th>4662</th>\n      <td>Jurassic Park (1993)</td>\n      <td>0.533452</td>\n    </tr>\n    <tr>\n      <th>8872</th>\n      <td>Toy Story 2 (1999)</td>\n      <td>0.533356</td>\n    </tr>\n    <tr>\n      <th>5488</th>\n      <td>Mask, The (1994)</td>\n      <td>0.533289</td>\n    </tr>\n    <tr>\n      <th>8001</th>\n      <td>Star Wars: Episode IV - A New Hope (1977)</td>\n      <td>0.533147</td>\n    </tr>\n  </tbody>\n</table>\n</div>"
     },
     "metadata": {},
     "execution_count": 194
    }
   ],
   "source": [
    "movies_like_Toy_story=Cosin_Similarity(user_movie_rating,'Toy Story (1995)').sort_values('Cosin_similarty', ascending=False)\n",
    "movies_like_Toy_story.dropna(inplace=True)\n",
    "movies_like_Toy_story.sort_values('Cosin_similarty', ascending=False).head(10)"
   ]
  },
  {
   "cell_type": "code",
   "execution_count": 195,
   "metadata": {},
   "outputs": [
    {
     "output_type": "execute_result",
     "data": {
      "text/plain": [
       "                                    userId  Cosin_similarty  rating_counts\n",
       "8871                      Toy Story (1995)         1.000000            215\n",
       "4337  Independence Day (a.k.a. ID4) (1996)         0.558823            202\n",
       "6865                   Pulp Fiction (1994)         0.557919            307\n",
       "5711            Mission: Impossible (1996)         0.554750            162\n",
       "298                         Aladdin (1992)         0.546933            183"
      ],
      "text/html": "<div>\n<style scoped>\n    .dataframe tbody tr th:only-of-type {\n        vertical-align: middle;\n    }\n\n    .dataframe tbody tr th {\n        vertical-align: top;\n    }\n\n    .dataframe thead th {\n        text-align: right;\n    }\n</style>\n<table border=\"1\" class=\"dataframe\">\n  <thead>\n    <tr style=\"text-align: right;\">\n      <th></th>\n      <th>userId</th>\n      <th>Cosin_similarty</th>\n      <th>rating_counts</th>\n    </tr>\n  </thead>\n  <tbody>\n    <tr>\n      <th>8871</th>\n      <td>Toy Story (1995)</td>\n      <td>1.000000</td>\n      <td>215</td>\n    </tr>\n    <tr>\n      <th>4337</th>\n      <td>Independence Day (a.k.a. ID4) (1996)</td>\n      <td>0.558823</td>\n      <td>202</td>\n    </tr>\n    <tr>\n      <th>6865</th>\n      <td>Pulp Fiction (1994)</td>\n      <td>0.557919</td>\n      <td>307</td>\n    </tr>\n    <tr>\n      <th>5711</th>\n      <td>Mission: Impossible (1996)</td>\n      <td>0.554750</td>\n      <td>162</td>\n    </tr>\n    <tr>\n      <th>298</th>\n      <td>Aladdin (1992)</td>\n      <td>0.546933</td>\n      <td>183</td>\n    </tr>\n  </tbody>\n</table>\n</div>"
     },
     "metadata": {},
     "execution_count": 195
    }
   ],
   "source": [
    "cos_Toy_Story = movies_like_Toy_story.join(ratings_mean_count['rating_counts'],on='userId')\n",
    "cos_Toy_Story.head()"
   ]
  },
  {
   "cell_type": "code",
   "execution_count": 196,
   "metadata": {},
   "outputs": [
    {
     "output_type": "execute_result",
     "data": {
      "text/plain": [
       "                                         userId  Cosin_similarty  \\\n",
       "8871                           Toy Story (1995)         1.000000   \n",
       "4337       Independence Day (a.k.a. ID4) (1996)         0.558823   \n",
       "6865                        Pulp Fiction (1994)         0.557919   \n",
       "5711                 Mission: Impossible (1996)         0.554750   \n",
       "298                              Aladdin (1992)         0.546933   \n",
       "7653                               Shrek (2001)         0.537303   \n",
       "4662                       Jurassic Park (1993)         0.533452   \n",
       "5488                           Mask, The (1994)         0.533289   \n",
       "8001  Star Wars: Episode IV - A New Hope (1977)         0.533147   \n",
       "3656                       Groundhog Day (1993)         0.525359   \n",
       "\n",
       "      rating_counts  \n",
       "8871            215  \n",
       "4337            202  \n",
       "6865            307  \n",
       "5711            162  \n",
       "298             183  \n",
       "7653            170  \n",
       "4662            238  \n",
       "5488            157  \n",
       "8001            251  \n",
       "3656            143  "
      ],
      "text/html": "<div>\n<style scoped>\n    .dataframe tbody tr th:only-of-type {\n        vertical-align: middle;\n    }\n\n    .dataframe tbody tr th {\n        vertical-align: top;\n    }\n\n    .dataframe thead th {\n        text-align: right;\n    }\n</style>\n<table border=\"1\" class=\"dataframe\">\n  <thead>\n    <tr style=\"text-align: right;\">\n      <th></th>\n      <th>userId</th>\n      <th>Cosin_similarty</th>\n      <th>rating_counts</th>\n    </tr>\n  </thead>\n  <tbody>\n    <tr>\n      <th>8871</th>\n      <td>Toy Story (1995)</td>\n      <td>1.000000</td>\n      <td>215</td>\n    </tr>\n    <tr>\n      <th>4337</th>\n      <td>Independence Day (a.k.a. ID4) (1996)</td>\n      <td>0.558823</td>\n      <td>202</td>\n    </tr>\n    <tr>\n      <th>6865</th>\n      <td>Pulp Fiction (1994)</td>\n      <td>0.557919</td>\n      <td>307</td>\n    </tr>\n    <tr>\n      <th>5711</th>\n      <td>Mission: Impossible (1996)</td>\n      <td>0.554750</td>\n      <td>162</td>\n    </tr>\n    <tr>\n      <th>298</th>\n      <td>Aladdin (1992)</td>\n      <td>0.546933</td>\n      <td>183</td>\n    </tr>\n    <tr>\n      <th>7653</th>\n      <td>Shrek (2001)</td>\n      <td>0.537303</td>\n      <td>170</td>\n    </tr>\n    <tr>\n      <th>4662</th>\n      <td>Jurassic Park (1993)</td>\n      <td>0.533452</td>\n      <td>238</td>\n    </tr>\n    <tr>\n      <th>5488</th>\n      <td>Mask, The (1994)</td>\n      <td>0.533289</td>\n      <td>157</td>\n    </tr>\n    <tr>\n      <th>8001</th>\n      <td>Star Wars: Episode IV - A New Hope (1977)</td>\n      <td>0.533147</td>\n      <td>251</td>\n    </tr>\n    <tr>\n      <th>3656</th>\n      <td>Groundhog Day (1993)</td>\n      <td>0.525359</td>\n      <td>143</td>\n    </tr>\n  </tbody>\n</table>\n</div>"
     },
     "metadata": {},
     "execution_count": 196
    }
   ],
   "source": [
    "cos_Toy_Story[cos_Toy_Story ['rating_counts']>100].sort_values('Cosin_similarty', ascending=False).head(10)"
   ]
  },
  {
   "source": [
    "# Use Data matrix to match Waiting to Exhale (1995)"
   ],
   "cell_type": "markdown",
   "metadata": {}
  },
  {
   "cell_type": "code",
   "execution_count": 197,
   "metadata": {},
   "outputs": [
    {
     "output_type": "execute_result",
     "data": {
      "text/plain": [
       "                                      userId  Cosin_similarty\n",
       "9225                Waiting to Exhale (1995)         1.000000\n",
       "5245                      Love Affair (1994)         0.707107\n",
       "6335                         Only You (1994)         0.639602\n",
       "9387         When a Man Loves a Woman (1994)         0.628971\n",
       "1860                             Cobb (1994)         0.624695\n",
       "1536                   Candidate, The (1972)         0.600245\n",
       "931                  Before and After (1996)         0.600245\n",
       "9372   What's Love Got to Do with It? (1993)         0.590481\n",
       "6908  Queen Margot (Reine Margot, La) (1994)         0.577350\n",
       "7054          Remains of the Day, The (1993)         0.555332"
      ],
      "text/html": "<div>\n<style scoped>\n    .dataframe tbody tr th:only-of-type {\n        vertical-align: middle;\n    }\n\n    .dataframe tbody tr th {\n        vertical-align: top;\n    }\n\n    .dataframe thead th {\n        text-align: right;\n    }\n</style>\n<table border=\"1\" class=\"dataframe\">\n  <thead>\n    <tr style=\"text-align: right;\">\n      <th></th>\n      <th>userId</th>\n      <th>Cosin_similarty</th>\n    </tr>\n  </thead>\n  <tbody>\n    <tr>\n      <th>9225</th>\n      <td>Waiting to Exhale (1995)</td>\n      <td>1.000000</td>\n    </tr>\n    <tr>\n      <th>5245</th>\n      <td>Love Affair (1994)</td>\n      <td>0.707107</td>\n    </tr>\n    <tr>\n      <th>6335</th>\n      <td>Only You (1994)</td>\n      <td>0.639602</td>\n    </tr>\n    <tr>\n      <th>9387</th>\n      <td>When a Man Loves a Woman (1994)</td>\n      <td>0.628971</td>\n    </tr>\n    <tr>\n      <th>1860</th>\n      <td>Cobb (1994)</td>\n      <td>0.624695</td>\n    </tr>\n    <tr>\n      <th>1536</th>\n      <td>Candidate, The (1972)</td>\n      <td>0.600245</td>\n    </tr>\n    <tr>\n      <th>931</th>\n      <td>Before and After (1996)</td>\n      <td>0.600245</td>\n    </tr>\n    <tr>\n      <th>9372</th>\n      <td>What's Love Got to Do with It? (1993)</td>\n      <td>0.590481</td>\n    </tr>\n    <tr>\n      <th>6908</th>\n      <td>Queen Margot (Reine Margot, La) (1994)</td>\n      <td>0.577350</td>\n    </tr>\n    <tr>\n      <th>7054</th>\n      <td>Remains of the Day, The (1993)</td>\n      <td>0.555332</td>\n    </tr>\n  </tbody>\n</table>\n</div>"
     },
     "metadata": {},
     "execution_count": 197
    }
   ],
   "source": [
    "Toy_story_ratings = user_movie_rating['Waiting to Exhale (1995)']\n",
    "movies_like_Waiting_to_exhale=Cosin_Similarity(user_movie_rating,'Waiting to Exhale (1995)').sort_values('Cosin_similarty', ascending=False)\n",
    "movies_like_Waiting_to_exhale.dropna(inplace=True)\n",
    "movies_like_Waiting_to_exhale.sort_values('Cosin_similarty', ascending=False).head(10)"
   ]
  },
  {
   "cell_type": "code",
   "execution_count": 198,
   "metadata": {},
   "outputs": [
    {
     "output_type": "execute_result",
     "data": {
      "text/plain": [
       "                               userId  Cosin_similarty  rating_counts\n",
       "9225         Waiting to Exhale (1995)         1.000000              7\n",
       "5245               Love Affair (1994)         0.707107              5\n",
       "6335                  Only You (1994)         0.639602              8\n",
       "9387  When a Man Loves a Woman (1994)         0.628971             11\n",
       "1860                      Cobb (1994)         0.624695              6"
      ],
      "text/html": "<div>\n<style scoped>\n    .dataframe tbody tr th:only-of-type {\n        vertical-align: middle;\n    }\n\n    .dataframe tbody tr th {\n        vertical-align: top;\n    }\n\n    .dataframe thead th {\n        text-align: right;\n    }\n</style>\n<table border=\"1\" class=\"dataframe\">\n  <thead>\n    <tr style=\"text-align: right;\">\n      <th></th>\n      <th>userId</th>\n      <th>Cosin_similarty</th>\n      <th>rating_counts</th>\n    </tr>\n  </thead>\n  <tbody>\n    <tr>\n      <th>9225</th>\n      <td>Waiting to Exhale (1995)</td>\n      <td>1.000000</td>\n      <td>7</td>\n    </tr>\n    <tr>\n      <th>5245</th>\n      <td>Love Affair (1994)</td>\n      <td>0.707107</td>\n      <td>5</td>\n    </tr>\n    <tr>\n      <th>6335</th>\n      <td>Only You (1994)</td>\n      <td>0.639602</td>\n      <td>8</td>\n    </tr>\n    <tr>\n      <th>9387</th>\n      <td>When a Man Loves a Woman (1994)</td>\n      <td>0.628971</td>\n      <td>11</td>\n    </tr>\n    <tr>\n      <th>1860</th>\n      <td>Cobb (1994)</td>\n      <td>0.624695</td>\n      <td>6</td>\n    </tr>\n  </tbody>\n</table>\n</div>"
     },
     "metadata": {},
     "execution_count": 198
    }
   ],
   "source": [
    "cos_Waiting_to_exhale = movies_like_Waiting_to_exhale.join(ratings_mean_count['rating_counts'],on='userId')\n",
    "cos_Waiting_to_exhale.head()"
   ]
  },
  {
   "cell_type": "code",
   "execution_count": 199,
   "metadata": {},
   "outputs": [
    {
     "output_type": "execute_result",
     "data": {
      "text/plain": [
       "                                     userId  Cosin_similarty  rating_counts\n",
       "7054         Remains of the Day, The (1993)         0.555332             24\n",
       "6610                      Piano, The (1993)         0.538126             61\n",
       "6453                      Paper, The (1994)         0.466628             21\n",
       "6600                    Philadelphia (1993)         0.457143             66\n",
       "6598                      Phenomenon (1996)         0.448276             46\n",
       "3062           First Wives Club, The (1996)         0.432512             21\n",
       "5685          Miracle on 34th Street (1994)         0.425373             38\n",
       "5005             Legends of the Fall (1994)         0.417454             68\n",
       "7278                            Rudy (1993)         0.416667             34\n",
       "1375  Bridges of Madison County, The (1995)         0.402492             23"
      ],
      "text/html": "<div>\n<style scoped>\n    .dataframe tbody tr th:only-of-type {\n        vertical-align: middle;\n    }\n\n    .dataframe tbody tr th {\n        vertical-align: top;\n    }\n\n    .dataframe thead th {\n        text-align: right;\n    }\n</style>\n<table border=\"1\" class=\"dataframe\">\n  <thead>\n    <tr style=\"text-align: right;\">\n      <th></th>\n      <th>userId</th>\n      <th>Cosin_similarty</th>\n      <th>rating_counts</th>\n    </tr>\n  </thead>\n  <tbody>\n    <tr>\n      <th>7054</th>\n      <td>Remains of the Day, The (1993)</td>\n      <td>0.555332</td>\n      <td>24</td>\n    </tr>\n    <tr>\n      <th>6610</th>\n      <td>Piano, The (1993)</td>\n      <td>0.538126</td>\n      <td>61</td>\n    </tr>\n    <tr>\n      <th>6453</th>\n      <td>Paper, The (1994)</td>\n      <td>0.466628</td>\n      <td>21</td>\n    </tr>\n    <tr>\n      <th>6600</th>\n      <td>Philadelphia (1993)</td>\n      <td>0.457143</td>\n      <td>66</td>\n    </tr>\n    <tr>\n      <th>6598</th>\n      <td>Phenomenon (1996)</td>\n      <td>0.448276</td>\n      <td>46</td>\n    </tr>\n    <tr>\n      <th>3062</th>\n      <td>First Wives Club, The (1996)</td>\n      <td>0.432512</td>\n      <td>21</td>\n    </tr>\n    <tr>\n      <th>5685</th>\n      <td>Miracle on 34th Street (1994)</td>\n      <td>0.425373</td>\n      <td>38</td>\n    </tr>\n    <tr>\n      <th>5005</th>\n      <td>Legends of the Fall (1994)</td>\n      <td>0.417454</td>\n      <td>68</td>\n    </tr>\n    <tr>\n      <th>7278</th>\n      <td>Rudy (1993)</td>\n      <td>0.416667</td>\n      <td>34</td>\n    </tr>\n    <tr>\n      <th>1375</th>\n      <td>Bridges of Madison County, The (1995)</td>\n      <td>0.402492</td>\n      <td>23</td>\n    </tr>\n  </tbody>\n</table>\n</div>"
     },
     "metadata": {},
     "execution_count": 199
    }
   ],
   "source": [
    "cos_Waiting_to_exhale[cos_Waiting_to_exhale ['rating_counts']>20].sort_values('Cosin_similarty', ascending=False).head(10)"
   ]
  },
  {
   "source": [
    "# Part Three"
   ],
   "cell_type": "markdown",
   "metadata": {}
  },
  {
   "cell_type": "code",
   "execution_count": 211,
   "metadata": {},
   "outputs": [
    {
     "output_type": "execute_result",
     "data": {
      "text/plain": [
       "userId                                   1    2    3    4    5    6    7    \\\n",
       "title                                                                        \n",
       "'71 (2014)                               0.0  0.0  0.0  0.0  0.0  0.0  0.0   \n",
       "'Hellboy': The Seeds of Creation (2004)  0.0  0.0  0.0  0.0  0.0  0.0  0.0   \n",
       "'Round Midnight (1986)                   0.0  0.0  0.0  0.0  0.0  0.0  0.0   \n",
       "'Salem's Lot (2004)                      0.0  0.0  0.0  0.0  0.0  0.0  0.0   \n",
       "'Til There Was You (1997)                0.0  0.0  0.0  0.0  0.0  0.0  0.0   \n",
       "'Tis the Season for Love (2015)          0.0  0.0  0.0  0.0  0.0  0.0  0.0   \n",
       "'burbs, The (1989)                       0.0  0.0  0.0  0.0  0.0  0.0  0.0   \n",
       "'night Mother (1986)                     0.0  0.0  0.0  0.0  0.0  0.0  0.0   \n",
       "(500) Days of Summer (2009)              0.0  0.0  0.0  0.0  0.0  0.0  0.0   \n",
       "*batteries not included (1987)           0.0  0.0  0.0  0.0  0.0  0.0  0.0   \n",
       "\n",
       "userId                                   8    9    10   ...  191  192  193  \\\n",
       "title                                                   ...                  \n",
       "'71 (2014)                               0.0  0.0  0.0  ...  0.0  0.0  0.0   \n",
       "'Hellboy': The Seeds of Creation (2004)  0.0  0.0  0.0  ...  0.0  0.0  0.0   \n",
       "'Round Midnight (1986)                   0.0  0.0  0.0  ...  0.0  0.0  0.0   \n",
       "'Salem's Lot (2004)                      0.0  0.0  0.0  ...  0.0  0.0  0.0   \n",
       "'Til There Was You (1997)                0.0  0.0  0.0  ...  0.0  0.0  0.0   \n",
       "'Tis the Season for Love (2015)          0.0  0.0  0.0  ...  0.0  0.0  0.0   \n",
       "'burbs, The (1989)                       0.0  0.0  0.0  ...  0.0  0.0  0.0   \n",
       "'night Mother (1986)                     0.0  0.0  0.0  ...  0.0  0.0  0.0   \n",
       "(500) Days of Summer (2009)              0.0  0.0  0.0  ...  0.0  0.0  0.0   \n",
       "*batteries not included (1987)           0.0  0.0  0.0  ...  0.0  0.0  0.0   \n",
       "\n",
       "userId                                   194  195  196  197  198  199  200  \n",
       "title                                                                       \n",
       "'71 (2014)                               0.0  0.0  0.0  0.0  0.0  0.0  0.0  \n",
       "'Hellboy': The Seeds of Creation (2004)  0.0  0.0  0.0  0.0  0.0  0.0  0.0  \n",
       "'Round Midnight (1986)                   0.0  0.0  0.0  0.0  0.0  0.0  0.0  \n",
       "'Salem's Lot (2004)                      0.0  0.0  0.0  0.0  0.0  0.0  0.0  \n",
       "'Til There Was You (1997)                0.0  0.0  0.0  0.0  0.0  0.0  0.0  \n",
       "'Tis the Season for Love (2015)          0.0  0.0  0.0  0.0  0.0  0.0  0.0  \n",
       "'burbs, The (1989)                       0.0  0.0  0.0  0.0  0.0  0.0  0.0  \n",
       "'night Mother (1986)                     0.0  0.0  0.0  0.0  0.0  0.0  0.0  \n",
       "(500) Days of Summer (2009)              0.0  0.0  0.0  0.0  0.0  0.0  0.0  \n",
       "*batteries not included (1987)           0.0  0.0  0.0  0.0  0.0  0.0  0.0  \n",
       "\n",
       "[10 rows x 200 columns]"
      ],
      "text/html": "<div>\n<style scoped>\n    .dataframe tbody tr th:only-of-type {\n        vertical-align: middle;\n    }\n\n    .dataframe tbody tr th {\n        vertical-align: top;\n    }\n\n    .dataframe thead th {\n        text-align: right;\n    }\n</style>\n<table border=\"1\" class=\"dataframe\">\n  <thead>\n    <tr style=\"text-align: right;\">\n      <th>userId</th>\n      <th>1</th>\n      <th>2</th>\n      <th>3</th>\n      <th>4</th>\n      <th>5</th>\n      <th>6</th>\n      <th>7</th>\n      <th>8</th>\n      <th>9</th>\n      <th>10</th>\n      <th>...</th>\n      <th>191</th>\n      <th>192</th>\n      <th>193</th>\n      <th>194</th>\n      <th>195</th>\n      <th>196</th>\n      <th>197</th>\n      <th>198</th>\n      <th>199</th>\n      <th>200</th>\n    </tr>\n    <tr>\n      <th>title</th>\n      <th></th>\n      <th></th>\n      <th></th>\n      <th></th>\n      <th></th>\n      <th></th>\n      <th></th>\n      <th></th>\n      <th></th>\n      <th></th>\n      <th></th>\n      <th></th>\n      <th></th>\n      <th></th>\n      <th></th>\n      <th></th>\n      <th></th>\n      <th></th>\n      <th></th>\n      <th></th>\n      <th></th>\n    </tr>\n  </thead>\n  <tbody>\n    <tr>\n      <th>'71 (2014)</th>\n      <td>0.0</td>\n      <td>0.0</td>\n      <td>0.0</td>\n      <td>0.0</td>\n      <td>0.0</td>\n      <td>0.0</td>\n      <td>0.0</td>\n      <td>0.0</td>\n      <td>0.0</td>\n      <td>0.0</td>\n      <td>...</td>\n      <td>0.0</td>\n      <td>0.0</td>\n      <td>0.0</td>\n      <td>0.0</td>\n      <td>0.0</td>\n      <td>0.0</td>\n      <td>0.0</td>\n      <td>0.0</td>\n      <td>0.0</td>\n      <td>0.0</td>\n    </tr>\n    <tr>\n      <th>'Hellboy': The Seeds of Creation (2004)</th>\n      <td>0.0</td>\n      <td>0.0</td>\n      <td>0.0</td>\n      <td>0.0</td>\n      <td>0.0</td>\n      <td>0.0</td>\n      <td>0.0</td>\n      <td>0.0</td>\n      <td>0.0</td>\n      <td>0.0</td>\n      <td>...</td>\n      <td>0.0</td>\n      <td>0.0</td>\n      <td>0.0</td>\n      <td>0.0</td>\n      <td>0.0</td>\n      <td>0.0</td>\n      <td>0.0</td>\n      <td>0.0</td>\n      <td>0.0</td>\n      <td>0.0</td>\n    </tr>\n    <tr>\n      <th>'Round Midnight (1986)</th>\n      <td>0.0</td>\n      <td>0.0</td>\n      <td>0.0</td>\n      <td>0.0</td>\n      <td>0.0</td>\n      <td>0.0</td>\n      <td>0.0</td>\n      <td>0.0</td>\n      <td>0.0</td>\n      <td>0.0</td>\n      <td>...</td>\n      <td>0.0</td>\n      <td>0.0</td>\n      <td>0.0</td>\n      <td>0.0</td>\n      <td>0.0</td>\n      <td>0.0</td>\n      <td>0.0</td>\n      <td>0.0</td>\n      <td>0.0</td>\n      <td>0.0</td>\n    </tr>\n    <tr>\n      <th>'Salem's Lot (2004)</th>\n      <td>0.0</td>\n      <td>0.0</td>\n      <td>0.0</td>\n      <td>0.0</td>\n      <td>0.0</td>\n      <td>0.0</td>\n      <td>0.0</td>\n      <td>0.0</td>\n      <td>0.0</td>\n      <td>0.0</td>\n      <td>...</td>\n      <td>0.0</td>\n      <td>0.0</td>\n      <td>0.0</td>\n      <td>0.0</td>\n      <td>0.0</td>\n      <td>0.0</td>\n      <td>0.0</td>\n      <td>0.0</td>\n      <td>0.0</td>\n      <td>0.0</td>\n    </tr>\n    <tr>\n      <th>'Til There Was You (1997)</th>\n      <td>0.0</td>\n      <td>0.0</td>\n      <td>0.0</td>\n      <td>0.0</td>\n      <td>0.0</td>\n      <td>0.0</td>\n      <td>0.0</td>\n      <td>0.0</td>\n      <td>0.0</td>\n      <td>0.0</td>\n      <td>...</td>\n      <td>0.0</td>\n      <td>0.0</td>\n      <td>0.0</td>\n      <td>0.0</td>\n      <td>0.0</td>\n      <td>0.0</td>\n      <td>0.0</td>\n      <td>0.0</td>\n      <td>0.0</td>\n      <td>0.0</td>\n    </tr>\n    <tr>\n      <th>'Tis the Season for Love (2015)</th>\n      <td>0.0</td>\n      <td>0.0</td>\n      <td>0.0</td>\n      <td>0.0</td>\n      <td>0.0</td>\n      <td>0.0</td>\n      <td>0.0</td>\n      <td>0.0</td>\n      <td>0.0</td>\n      <td>0.0</td>\n      <td>...</td>\n      <td>0.0</td>\n      <td>0.0</td>\n      <td>0.0</td>\n      <td>0.0</td>\n      <td>0.0</td>\n      <td>0.0</td>\n      <td>0.0</td>\n      <td>0.0</td>\n      <td>0.0</td>\n      <td>0.0</td>\n    </tr>\n    <tr>\n      <th>'burbs, The (1989)</th>\n      <td>0.0</td>\n      <td>0.0</td>\n      <td>0.0</td>\n      <td>0.0</td>\n      <td>0.0</td>\n      <td>0.0</td>\n      <td>0.0</td>\n      <td>0.0</td>\n      <td>0.0</td>\n      <td>0.0</td>\n      <td>...</td>\n      <td>0.0</td>\n      <td>0.0</td>\n      <td>0.0</td>\n      <td>0.0</td>\n      <td>0.0</td>\n      <td>0.0</td>\n      <td>0.0</td>\n      <td>0.0</td>\n      <td>0.0</td>\n      <td>0.0</td>\n    </tr>\n    <tr>\n      <th>'night Mother (1986)</th>\n      <td>0.0</td>\n      <td>0.0</td>\n      <td>0.0</td>\n      <td>0.0</td>\n      <td>0.0</td>\n      <td>0.0</td>\n      <td>0.0</td>\n      <td>0.0</td>\n      <td>0.0</td>\n      <td>0.0</td>\n      <td>...</td>\n      <td>0.0</td>\n      <td>0.0</td>\n      <td>0.0</td>\n      <td>0.0</td>\n      <td>0.0</td>\n      <td>0.0</td>\n      <td>0.0</td>\n      <td>0.0</td>\n      <td>0.0</td>\n      <td>0.0</td>\n    </tr>\n    <tr>\n      <th>(500) Days of Summer (2009)</th>\n      <td>0.0</td>\n      <td>0.0</td>\n      <td>0.0</td>\n      <td>0.0</td>\n      <td>0.0</td>\n      <td>0.0</td>\n      <td>0.0</td>\n      <td>0.0</td>\n      <td>0.0</td>\n      <td>0.0</td>\n      <td>...</td>\n      <td>0.0</td>\n      <td>0.0</td>\n      <td>0.0</td>\n      <td>0.0</td>\n      <td>0.0</td>\n      <td>0.0</td>\n      <td>0.0</td>\n      <td>0.0</td>\n      <td>0.0</td>\n      <td>0.0</td>\n    </tr>\n    <tr>\n      <th>*batteries not included (1987)</th>\n      <td>0.0</td>\n      <td>0.0</td>\n      <td>0.0</td>\n      <td>0.0</td>\n      <td>0.0</td>\n      <td>0.0</td>\n      <td>0.0</td>\n      <td>0.0</td>\n      <td>0.0</td>\n      <td>0.0</td>\n      <td>...</td>\n      <td>0.0</td>\n      <td>0.0</td>\n      <td>0.0</td>\n      <td>0.0</td>\n      <td>0.0</td>\n      <td>0.0</td>\n      <td>0.0</td>\n      <td>0.0</td>\n      <td>0.0</td>\n      <td>0.0</td>\n    </tr>\n  </tbody>\n</table>\n<p>10 rows × 200 columns</p>\n</div>"
     },
     "metadata": {},
     "execution_count": 211
    }
   ],
   "source": [
    "Movies_User_Ratings=user_movie_rating.T # Transpose Movie user table \n",
    "Movies_User_Ratings.head(10)"
   ]
  },
  {
   "cell_type": "code",
   "execution_count": 212,
   "metadata": {},
   "outputs": [
    {
     "output_type": "execute_result",
     "data": {
      "text/plain": [
       "title\n",
       "'71 (2014)                                 0.0\n",
       "'Hellboy': The Seeds of Creation (2004)    0.0\n",
       "'Round Midnight (1986)                     0.0\n",
       "'Salem's Lot (2004)                        0.0\n",
       "'Til There Was You (1997)                  0.0\n",
       "'Tis the Season for Love (2015)            0.0\n",
       "'burbs, The (1989)                         0.0\n",
       "'night Mother (1986)                       0.0\n",
       "(500) Days of Summer (2009)                0.0\n",
       "*batteries not included (1987)             0.0\n",
       "Name: 200, dtype: float64"
      ]
     },
     "metadata": {},
     "execution_count": 212
    }
   ],
   "source": [
    "User_200_Ratings=Movies_User_Ratings[200]\n",
    "User_200_Ratings.head(10)"
   ]
  },
  {
   "source": [
    "# Users like USer200"
   ],
   "cell_type": "markdown",
   "metadata": {}
  },
  {
   "cell_type": "code",
   "execution_count": 202,
   "metadata": {},
   "outputs": [
    {
     "output_type": "execute_result",
     "data": {
      "text/plain": [
       "     userId  Cosin_similarty\n",
       "199   200.0         1.000000\n",
       "67     68.0         0.460507\n",
       "140   141.0         0.403566\n",
       "131   132.0         0.399698\n",
       "44     45.0         0.384170\n",
       "165   166.0         0.361068\n",
       "63     64.0         0.356268\n",
       "176   177.0         0.355917\n",
       "128   129.0         0.353020\n",
       "168   169.0         0.337422"
      ],
      "text/html": "<div>\n<style scoped>\n    .dataframe tbody tr th:only-of-type {\n        vertical-align: middle;\n    }\n\n    .dataframe tbody tr th {\n        vertical-align: top;\n    }\n\n    .dataframe thead th {\n        text-align: right;\n    }\n</style>\n<table border=\"1\" class=\"dataframe\">\n  <thead>\n    <tr style=\"text-align: right;\">\n      <th></th>\n      <th>userId</th>\n      <th>Cosin_similarty</th>\n    </tr>\n  </thead>\n  <tbody>\n    <tr>\n      <th>199</th>\n      <td>200.0</td>\n      <td>1.000000</td>\n    </tr>\n    <tr>\n      <th>67</th>\n      <td>68.0</td>\n      <td>0.460507</td>\n    </tr>\n    <tr>\n      <th>140</th>\n      <td>141.0</td>\n      <td>0.403566</td>\n    </tr>\n    <tr>\n      <th>131</th>\n      <td>132.0</td>\n      <td>0.399698</td>\n    </tr>\n    <tr>\n      <th>44</th>\n      <td>45.0</td>\n      <td>0.384170</td>\n    </tr>\n    <tr>\n      <th>165</th>\n      <td>166.0</td>\n      <td>0.361068</td>\n    </tr>\n    <tr>\n      <th>63</th>\n      <td>64.0</td>\n      <td>0.356268</td>\n    </tr>\n    <tr>\n      <th>176</th>\n      <td>177.0</td>\n      <td>0.355917</td>\n    </tr>\n    <tr>\n      <th>128</th>\n      <td>129.0</td>\n      <td>0.353020</td>\n    </tr>\n    <tr>\n      <th>168</th>\n      <td>169.0</td>\n      <td>0.337422</td>\n    </tr>\n  </tbody>\n</table>\n</div>"
     },
     "metadata": {},
     "execution_count": 202
    }
   ],
   "source": [
    "Users_like_userID200=Cosin_Similarity(Movies_User_Ratings,200).sort_values('Cosin_similarty', ascending=False)\n",
    "Users_like_userID200.dropna(inplace=True)\n",
    "Top_ten_similar_users=Users_like_userID200.sort_values('Cosin_similarty', ascending=False).head(10)\n",
    "Top_ten_similar_users\n"
   ]
  },
  {
   "source": [
    "# Intersection between original merging data with Top ten similar users on userId"
   ],
   "cell_type": "markdown",
   "metadata": {}
  },
  {
   "cell_type": "code",
   "execution_count": 210,
   "metadata": {},
   "outputs": [
    {
     "output_type": "execute_result",
     "data": {
      "text/plain": [
       "                         rating\n",
       "title                          \n",
       "Fame (1980)                 5.0\n",
       "Adam's Rib (1949)           5.0\n",
       "After the Sunset (2004)     5.0"
      ],
      "text/html": "<div>\n<style scoped>\n    .dataframe tbody tr th:only-of-type {\n        vertical-align: middle;\n    }\n\n    .dataframe tbody tr th {\n        vertical-align: top;\n    }\n\n    .dataframe thead th {\n        text-align: right;\n    }\n</style>\n<table border=\"1\" class=\"dataframe\">\n  <thead>\n    <tr style=\"text-align: right;\">\n      <th></th>\n      <th>rating</th>\n    </tr>\n    <tr>\n      <th>title</th>\n      <th></th>\n    </tr>\n  </thead>\n  <tbody>\n    <tr>\n      <th>Fame (1980)</th>\n      <td>5.0</td>\n    </tr>\n    <tr>\n      <th>Adam's Rib (1949)</th>\n      <td>5.0</td>\n    </tr>\n    <tr>\n      <th>After the Sunset (2004)</th>\n      <td>5.0</td>\n    </tr>\n  </tbody>\n</table>\n</div>"
     },
     "metadata": {},
     "execution_count": 210
    }
   ],
   "source": [
    "intersection_df = pd.merge(movie_data, Top_ten_similar_users, how ='inner', on ='userId') \n",
    "#generate new dataFrame groupby title on mean of ratings for ten similar users\n",
    "ratings_mean_for_ten_users = pd.DataFrame(intersection_df.groupby('title')['rating'].mean())\n",
    "# dropes Movies that isn't rated by ten similar users\n",
    "ratings_mean_for_ten_users.dropna(inplace=True) \n",
    "#sort mean of rating asending to recommend the higher three movies to user of id 200\n",
    "ratings_mean_for_ten_users.sort_values(\"rating\",ascending=False).head(3)\n"
   ]
  }
 ]
}